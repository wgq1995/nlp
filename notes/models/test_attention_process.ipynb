{
 "cells": [
  {
   "cell_type": "code",
   "execution_count": 26,
   "metadata": {},
   "outputs": [],
   "source": [
    "import keras.backend as k\n",
    "import numpy as np"
   ]
  },
  {
   "cell_type": "code",
   "execution_count": 36,
   "metadata": {
    "collapsed": true
   },
   "outputs": [],
   "source": [
    "a = np.array([[1, 2, 3]])\n",
    "b = np.array([[1, 1, 1]])\n",
    "b = np.reshape(b, (3, 1))"
   ]
  },
  {
   "cell_type": "code",
   "execution_count": 37,
   "metadata": {
    "collapsed": true
   },
   "outputs": [],
   "source": [
    "a = k.variable(value=a)\n",
    "b = k.variable(value=b)\n",
    "sess = k.get_session()"
   ]
  },
  {
   "cell_type": "code",
   "execution_count": 38,
   "metadata": {},
   "outputs": [
    {
     "data": {
      "text/plain": [
       "array([[ 1.,  2.,  3.]], dtype=float32)"
      ]
     },
     "execution_count": 38,
     "metadata": {},
     "output_type": "execute_result"
    }
   ],
   "source": [
    "a.eval(session=sess)"
   ]
  },
  {
   "cell_type": "code",
   "execution_count": 39,
   "metadata": {},
   "outputs": [
    {
     "data": {
      "text/plain": [
       "array([[ 6.]], dtype=float32)"
      ]
     },
     "execution_count": 39,
     "metadata": {},
     "output_type": "execute_result"
    }
   ],
   "source": [
    "k.dot(a, b).eval(session=sess)"
   ]
  },
  {
   "cell_type": "code",
   "execution_count": 87,
   "metadata": {},
   "outputs": [
    {
     "name": "stdout",
     "output_type": "stream",
     "text": [
      "[[[ 0.1         0.2         0.30000001]\n",
      "  [ 0.40000001  0.5         0.60000002]\n",
      "  [ 0.69999999  0.80000001  0.89999998]\n",
      "  [ 1.          1.10000002  1.20000005]\n",
      "  [ 1.29999995  1.39999998  1.5       ]]]\n",
      "(1, 5, 3)\n"
     ]
    }
   ],
   "source": [
    "x = np.array([[\n",
    "    [1, 2, 3],\n",
    "    [4, 5, 6],\n",
    "    [7, 8, 9],\n",
    "    [10, 11, 12],\n",
    "    [13, 14, 15],\n",
    "]], dtype=np.float32) / 10\n",
    "print(x)\n",
    "print(x.shape)"
   ]
  },
  {
   "cell_type": "code",
   "execution_count": 88,
   "metadata": {},
   "outputs": [
    {
     "name": "stdout",
     "output_type": "stream",
     "text": [
      "[[ 0.2         0.5         0.30000001]]\n",
      "(1, 3)\n"
     ]
    }
   ],
   "source": [
    "w = np.array([\n",
    "    [0.2, 0.5, 0.3]\n",
    "], dtype=np.float32)\n",
    "print(w)\n",
    "print(w.shape)"
   ]
  },
  {
   "cell_type": "code",
   "execution_count": 89,
   "metadata": {},
   "outputs": [
    {
     "name": "stdout",
     "output_type": "stream",
     "text": [
      "[[ 0.21000001  0.50999999  0.81000006  1.11000001  1.40999997]]\n",
      "(1, 5)\n"
     ]
    }
   ],
   "source": [
    "step_dim = 5\n",
    "feature_dim = 3\n",
    "\n",
    "eij = k.reshape(k.dot(k.reshape(x, (-1, feature_dim)), k.reshape(w, (feature_dim, 1))), (-1, step_dim))\n",
    "print(eij.eval(session=sess))\n",
    "print(eij.shape)"
   ]
  },
  {
   "cell_type": "code",
   "execution_count": 90,
   "metadata": {},
   "outputs": [
    {
     "name": "stdout",
     "output_type": "stream",
     "text": [
      "[[ 0.20696649  0.46994519  0.66959035  0.80406243  0.88749421]]\n"
     ]
    }
   ],
   "source": [
    "eij = k.tanh(eij)\n",
    "print(eij.eval(session=sess))"
   ]
  },
  {
   "cell_type": "code",
   "execution_count": 91,
   "metadata": {},
   "outputs": [
    {
     "name": "stdout",
     "output_type": "stream",
     "text": [
      "[[ 1.22994137  1.59990644  1.95343697  2.23460031  2.42903543]]\n",
      "(1, 5)\n"
     ]
    }
   ],
   "source": [
    "a = k.exp(eij)\n",
    "print(a.eval(session=sess))\n",
    "print(a.shape)"
   ]
  },
  {
   "cell_type": "code",
   "execution_count": 92,
   "metadata": {},
   "outputs": [
    {
     "name": "stdout",
     "output_type": "stream",
     "text": [
      "[[ 0.13019495  0.16935746  0.2067803   0.23654273  0.25712457]]\n"
     ]
    }
   ],
   "source": [
    "a /= k.cast(k.sum(a, axis=1, keepdims=True) + k.epsilon(), k.floatx())\n",
    "print(a.eval(session=sess))"
   ]
  },
  {
   "cell_type": "code",
   "execution_count": 93,
   "metadata": {},
   "outputs": [
    {
     "name": "stdout",
     "output_type": "stream",
     "text": [
      "[[[ 0.13019495]\n",
      "  [ 0.16935746]\n",
      "  [ 0.2067803 ]\n",
      "  [ 0.23654273]\n",
      "  [ 0.25712457]]]\n",
      "(1, 5, 1)\n"
     ]
    }
   ],
   "source": [
    "a = k.expand_dims(a)\n",
    "print(a.eval(session=sess))\n",
    "print(a.shape)"
   ]
  },
  {
   "cell_type": "code",
   "execution_count": 94,
   "metadata": {},
   "outputs": [
    {
     "name": "stdout",
     "output_type": "stream",
     "text": [
      "[[[ 0.01301949  0.02603899  0.03905848]\n",
      "  [ 0.06774299  0.08467873  0.10161448]\n",
      "  [ 0.14474621  0.16542424  0.18610227]\n",
      "  [ 0.23654273  0.26019701  0.2838513 ]\n",
      "  [ 0.33426192  0.35997438  0.38568687]]]\n",
      "(1, 5, 3)\n"
     ]
    }
   ],
   "source": [
    "weight_input = x * a\n",
    "print(weight_input.eval(session=sess))\n",
    "print(weight_input.shape)"
   ]
  },
  {
   "cell_type": "code",
   "execution_count": 95,
   "metadata": {},
   "outputs": [
    {
     "name": "stdout",
     "output_type": "stream",
     "text": [
      "[[ 0.79631335  0.89631337  0.99631345]]\n"
     ]
    }
   ],
   "source": [
    "res = k.sum(weight_input, axis=1)\n",
    "print(res.eval(session=sess))"
   ]
  },
  {
   "cell_type": "code",
   "execution_count": null,
   "metadata": {
    "collapsed": true
   },
   "outputs": [],
   "source": []
  },
  {
   "cell_type": "code",
   "execution_count": null,
   "metadata": {
    "collapsed": true
   },
   "outputs": [],
   "source": []
  },
  {
   "cell_type": "code",
   "execution_count": null,
   "metadata": {
    "collapsed": true
   },
   "outputs": [],
   "source": []
  }
 ],
 "metadata": {
  "kernelspec": {
   "display_name": "Python 3",
   "language": "python",
   "name": "python3"
  },
  "language_info": {
   "codemirror_mode": {
    "name": "ipython",
    "version": 3
   },
   "file_extension": ".py",
   "mimetype": "text/x-python",
   "name": "python",
   "nbconvert_exporter": "python",
   "pygments_lexer": "ipython3",
   "version": "3.6.2"
  }
 },
 "nbformat": 4,
 "nbformat_minor": 2
}
