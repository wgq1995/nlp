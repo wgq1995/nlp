{
 "cells": [
  {
   "cell_type": "code",
   "execution_count": 1,
   "metadata": {},
   "outputs": [],
   "source": [
    "import pandas as pd\n",
    "import matplotlib.pyplot as plt"
   ]
  },
  {
   "cell_type": "code",
   "execution_count": 2,
   "metadata": {},
   "outputs": [],
   "source": [
    "train_path = '../data/train.csv'\n",
    "test_path = '../data/test.csv'"
   ]
  },
  {
   "cell_type": "code",
   "execution_count": 3,
   "metadata": {},
   "outputs": [],
   "source": [
    "train_df = pd.read_csv(train_path)\n",
    "test_df = pd.read_csv(test_path)"
   ]
  },
  {
   "cell_type": "code",
   "execution_count": 4,
   "metadata": {},
   "outputs": [
    {
     "data": {
      "text/html": [
       "<div>\n",
       "<style scoped>\n",
       "    .dataframe tbody tr th:only-of-type {\n",
       "        vertical-align: middle;\n",
       "    }\n",
       "\n",
       "    .dataframe tbody tr th {\n",
       "        vertical-align: top;\n",
       "    }\n",
       "\n",
       "    .dataframe thead th {\n",
       "        text-align: right;\n",
       "    }\n",
       "</style>\n",
       "<table border=\"1\" class=\"dataframe\">\n",
       "  <thead>\n",
       "    <tr style=\"text-align: right;\">\n",
       "      <th></th>\n",
       "      <th>qid</th>\n",
       "      <th>question_text</th>\n",
       "      <th>target</th>\n",
       "    </tr>\n",
       "  </thead>\n",
       "  <tbody>\n",
       "    <tr>\n",
       "      <th>0</th>\n",
       "      <td>00002165364db923c7e6</td>\n",
       "      <td>How did Quebec nationalists see their province...</td>\n",
       "      <td>0</td>\n",
       "    </tr>\n",
       "    <tr>\n",
       "      <th>1</th>\n",
       "      <td>000032939017120e6e44</td>\n",
       "      <td>Do you have an adopted dog, how would you enco...</td>\n",
       "      <td>0</td>\n",
       "    </tr>\n",
       "    <tr>\n",
       "      <th>2</th>\n",
       "      <td>0000412ca6e4628ce2cf</td>\n",
       "      <td>Why does velocity affect time? Does velocity a...</td>\n",
       "      <td>0</td>\n",
       "    </tr>\n",
       "    <tr>\n",
       "      <th>3</th>\n",
       "      <td>000042bf85aa498cd78e</td>\n",
       "      <td>How did Otto von Guericke used the Magdeburg h...</td>\n",
       "      <td>0</td>\n",
       "    </tr>\n",
       "    <tr>\n",
       "      <th>4</th>\n",
       "      <td>0000455dfa3e01eae3af</td>\n",
       "      <td>Can I convert montra helicon D to a mountain b...</td>\n",
       "      <td>0</td>\n",
       "    </tr>\n",
       "  </tbody>\n",
       "</table>\n",
       "</div>"
      ],
      "text/plain": [
       "                    qid                                      question_text  \\\n",
       "0  00002165364db923c7e6  How did Quebec nationalists see their province...   \n",
       "1  000032939017120e6e44  Do you have an adopted dog, how would you enco...   \n",
       "2  0000412ca6e4628ce2cf  Why does velocity affect time? Does velocity a...   \n",
       "3  000042bf85aa498cd78e  How did Otto von Guericke used the Magdeburg h...   \n",
       "4  0000455dfa3e01eae3af  Can I convert montra helicon D to a mountain b...   \n",
       "\n",
       "   target  \n",
       "0       0  \n",
       "1       0  \n",
       "2       0  \n",
       "3       0  \n",
       "4       0  "
      ]
     },
     "execution_count": 4,
     "metadata": {},
     "output_type": "execute_result"
    }
   ],
   "source": [
    "train_df.head()"
   ]
  },
  {
   "cell_type": "code",
   "execution_count": 5,
   "metadata": {},
   "outputs": [],
   "source": [
    "train_df['number_word'] = train_df.question_text.apply(lambda x:len(x.split(' ')))"
   ]
  },
  {
   "cell_type": "code",
   "execution_count": 6,
   "metadata": {},
   "outputs": [],
   "source": [
    "test_df['number_word'] = test_df.question_text.apply(lambda x:len(x.split(' ')))"
   ]
  },
  {
   "cell_type": "code",
   "execution_count": 7,
   "metadata": {},
   "outputs": [
    {
     "data": {
      "text/plain": [
       "(array([8.75775e+05, 3.48925e+05, 6.42450e+04, 1.63710e+04, 8.01000e+02,\n",
       "        4.00000e+00, 0.00000e+00, 0.00000e+00, 0.00000e+00, 1.00000e+00]),\n",
       " array([  1. ,  13.1,  25.2,  37.3,  49.4,  61.5,  73.6,  85.7,  97.8,\n",
       "        109.9, 122. ]),\n",
       " <a list of 10 Patch objects>)"
      ]
     },
     "execution_count": 7,
     "metadata": {},
     "output_type": "execute_result"
    },
    {
     "data": {
      "image/png": "[encoded data removed]",
      "text/plain": [
       "<Figure size 432x288 with 1 Axes>"
      ]
     },
     "metadata": {
      "needs_background": "light"
     },
     "output_type": "display_data"
    }
   ],
   "source": [
    "plt.hist(train_df.number_word)\n",
    "#plt.yscale('log')"
   ]
  },
  {
   "cell_type": "code",
   "execution_count": 8,
   "metadata": {},
   "outputs": [
    {
     "data": {
      "text/plain": [
       "array(['In \"Star Trek 2013\" why did they :\\n\\n*Spoilers*\\n*Spoilers*\\n*Spoilers*\\n*Spoilers*\\n\\n1)Make warping look quite a bit like an hyperspace jump\\n2)what in the world were those bright particles as soon as they jumped.\\n3)Why in the world did they make it possible for two entities to react in warp space in separate jumps.\\n4)Why did Spock get emotions for this movie.\\n5)What was the point of hiding the \"Enterprise\" underwater.\\n6)When they were intercepted by the dark ship, how come they reached Earth when they were far away from her.(I don\\'t seem to remember the scene where they warp to earth).\\n7)How did the ship enter earth\\'s atmosphere when it wasnt even in orbit.\\n8)When Scotty opened the door of the black ship , how come pike and khan didn\\'t slow down?'],\n",
       "      dtype=object)"
      ]
     },
     "execution_count": 8,
     "metadata": {},
     "output_type": "execute_result"
    }
   ],
   "source": [
    "train_df[train_df.number_word > 100].question_text.values"
   ]
  },
  {
   "cell_type": "code",
   "execution_count": 9,
   "metadata": {},
   "outputs": [
    {
     "data": {
      "text/plain": [
       "522266    0\n",
       "Name: target, dtype: int64"
      ]
     },
     "execution_count": 9,
     "metadata": {},
     "output_type": "execute_result"
    }
   ],
   "source": [
    "train_df[train_df.number_word > 100].target"
   ]
  },
  {
   "cell_type": "code",
   "execution_count": 10,
   "metadata": {},
   "outputs": [],
   "source": [
    "#train_df = train_df[train_df['number_word'] < 100]"
   ]
  },
  {
   "cell_type": "code",
   "execution_count": 11,
   "metadata": {},
   "outputs": [
    {
     "data": {
      "text/plain": [
       "(array([2.6737e+04, 2.0699e+04, 6.3700e+03, 1.5840e+03, 8.1600e+02,\n",
       "        1.6000e+02, 3.0000e+00, 0.0000e+00, 0.0000e+00, 1.0000e+00]),\n",
       " array([ 2. , 10.5, 19. , 27.5, 36. , 44.5, 53. , 61.5, 70. , 78.5, 87. ]),\n",
       " <a list of 10 Patch objects>)"
      ]
     },
     "execution_count": 11,
     "metadata": {},
     "output_type": "execute_result"
    },
    {
     "data": {
      "image/png": "[encoded data removed]",
      "text/plain": [
       "<Figure size 432x288 with 1 Axes>"
      ]
     },
     "metadata": {
      "needs_background": "light"
     },
     "output_type": "display_data"
    }
   ],
   "source": [
    "plt.hist(test_df.number_word)\n",
    "#plt.yscale('log')"
   ]
  },
  {
   "cell_type": "code",
   "execution_count": 12,
   "metadata": {},
   "outputs": [],
   "source": [
    "contraction_mapping = {\"What's\":\"What is\", \"ain't\":\"is not\", \"aren't\":\"are not\",\"can't\":\"cannot\",\n",
    "                       \"'cause\":\"because\", \"could've\":\"could have\", \"couldn't\": \"could not\", \"didn't\": \"did not\",  \"doesn't\": \"does not\", \"don't\": \"do not\", \"hadn't\": \"had not\", \"hasn't\": \"has not\", \"haven't\": \"have not\", \"he'd\": \"he would\",\"he'll\": \"he will\", \"he's\": \"he is\", \"how'd\": \"how did\", \"how'd'y\": \"how do you\", \"how'll\": \"how will\", \"how's\": \"how is\",  \"I'd\": \"I would\", \"I'd've\": \"I would have\", \"I'll\": \"I will\", \"I'll've\": \"I will have\",\"I'm\": \"I am\", \"I've\": \"I have\", \"i'd\": \"i would\", \"i'd've\": \"i would have\", \"i'll\": \"i will\",  \"i'll've\": \"i will have\",\"i'm\": \"i am\", \"i've\": \"i have\", \"isn't\": \"is not\", \"it'd\": \"it would\", \"it'd've\": \"it would have\", \"it'll\": \"it will\", \"it'll've\": \"it will have\",\"it's\": \"it is\", \"let's\": \"let us\", \"ma'am\": \"madam\", \"mayn't\": \"may not\", \"might've\": \"might have\",\"mightn't\": \"might not\",\"mightn't've\": \"might not have\", \"must've\": \"must have\", \"mustn't\": \"must not\", \"mustn't've\": \"must not have\", \"needn't\": \"need not\", \"needn't've\": \"need not have\",\"o'clock\": \"of the clock\", \"oughtn't\": \"ought not\", \"oughtn't've\": \"ought not have\", \"shan't\": \"shall not\", \"sha'n't\": \"shall not\", \"shan't've\": \"shall not have\", \"she'd\": \"she would\", \"she'd've\": \"she would have\", \"she'll\": \"she will\", \"she'll've\": \"she will have\", \"she's\": \"she is\", \"should've\": \"should have\", \"shouldn't\": \"should not\", \"shouldn't've\": \"should not have\", \"so've\": \"so have\",\"so's\": \"so as\", \"this's\": \"this is\",\"that'd\": \"that would\", \"that'd've\": \"that would have\", \"that's\": \"that is\", \"there'd\": \"there would\", \"there'd've\": \"there would have\", \"there's\": \"there is\", \"here's\": \"here is\",\"they'd\": \"they would\", \"they'd've\": \"they would have\", \"they'll\": \"they will\", \"they'll've\": \"they will have\", \"they're\": \"they are\", \"they've\": \"they have\", \"to've\": \"to have\", \"wasn't\": \"was not\", \"we'd\": \"we would\", \"we'd've\": \"we would have\", \"we'll\": \"we will\", \"we'll've\": \"we will have\", \"we're\": \"we are\", \"we've\": \"we have\", \"weren't\": \"were not\", \"what'll\": \"what will\", \"what'll've\": \"what will have\", \"what're\": \"what are\",  \"what's\": \"what is\", \"what've\": \"what have\", \"when's\": \"when is\", \"when've\": \"when have\", \"where'd\": \"where did\", \"where's\": \"where is\", \"where've\": \"where have\", \"who'll\": \"who will\", \"who'll've\": \"who will have\", \"who's\": \"who is\", \"who've\": \"who have\", \"why's\": \"why is\", \"why've\": \"why have\", \"will've\": \"will have\", \"won't\": \"will not\", \"won't've\": \"will not have\", \"would've\": \"would have\", \"wouldn't\": \"would not\", \"wouldn't've\": \"would not have\", \"y'all\": \"you all\", \"y'all'd\": \"you all would\",\"y'all'd've\": \"you all would have\",\"y'all're\": \"you all are\",\"y'all've\": \"you all have\",\"you'd\": \"you would\", \"you'd've\": \"you would have\", \"you'll\": \"you will\", \"you'll've\": \"you will have\", \"you're\": \"you are\", \"you've\": \"you have\" }\n",
    "puncts = [',', '.', '\"', ':', ')', '(', '-', '!', '?', '|', ';', \"'\", '$', '&', '/', '[', ']', '>', '%', '=', '*', '+', '\\\\', '•',  '~', '@', '£', \n",
    " '·', '_', '{', '}', '©', '^', '®', '`',  '<', '→', '°', '€', '™', '›',  '♥', '←', '×', '§', '″', '′', 'Â', '█', '½', 'à', '…', \n",
    " '“', '★', '”', '–', '●', 'â', '►', '−', '¢', '²', '¬', '░', '¶', '↑', '±', '¿', '▾', '═', '¦', '║', '―', '¥', '▓', '—', '‹', '─', \n",
    " '▒', '：', '¼', '⊕', '▼', '▪', '†', '■', '’', '▀', '¨', '▄', '♫', '☆', 'é', '¯', '♦', '¤', '▲', 'è', '¸', '¾', 'Ã', '⋅', '‘', '∞', \n",
    " '∙', '）', '↓', '、', '│', '（', '»', '，', '♪', '╩', '╚', '³', '・', '╦', '╣', '╔', '╗', '▬', '❤', 'ï', 'Ø', '¹', '≤', '‡', '√', ]\n",
    "def clean_text(text):\n",
    "    specials = [\"’\", \"‘\", \"´\", \"`\"]\n",
    "    for s in specials:\n",
    "        text = text.replace(s, \"'\")\n",
    "    words = text.split(' ')\n",
    "    res = []\n",
    "    for i in range(len(words)):\n",
    "        if words[i] in contraction_mapping:\n",
    "            res += contraction_mapping[words[i]].split(' ')\n",
    "        else:\n",
    "            res.append(words[i])\n",
    "    res = ' '.join(res)\n",
    "    for punct in puncts:\n",
    "        res = res.replace(punct, f' {punct} ')\n",
    "    return res"
   ]
  },
  {
   "cell_type": "code",
   "execution_count": 13,
   "metadata": {},
   "outputs": [],
   "source": [
    "train_df['question_text'] = train_df['question_text'].apply(clean_text)\n",
    "test_df['question_text'] = test_df['question_text'].apply(clean_text)"
   ]
  },
  {
   "cell_type": "code",
   "execution_count": 14,
   "metadata": {},
   "outputs": [],
   "source": [
    "train_df['number_word'] = train_df.question_text.apply(lambda x:len(x.split(' ')))\n",
    "test_df['number_word'] = test_df.question_text.apply(lambda x:len(x.split(' ')))"
   ]
  },
  {
   "cell_type": "code",
   "execution_count": 15,
   "metadata": {},
   "outputs": [
    {
     "data": {
      "image/png": "[encoded data removed]",
      "text/plain": [
       "<Figure size 432x288 with 1 Axes>"
      ]
     },
     "metadata": {
      "needs_background": "light"
     },
     "output_type": "display_data"
    }
   ],
   "source": [
    "plt.hist(train_df.number_word)\n",
    "plt.yscale('log')\n",
    "plt.show()"
   ]
  },
  {
   "cell_type": "code",
   "execution_count": 17,
   "metadata": {},
   "outputs": [
    {
     "data": {
      "text/plain": [
       "array(['What is  [ math ]  \\\\ overbrace {  \\\\ sum _  {  \\\\ vartheta = 8 }  ^  {  \\\\ infty }   \\\\ vec {  \\\\ frac {  \\\\ sum _  {  \\\\ kappa = 7 }  ^  {  \\\\ infty }   \\\\ overbrace { 1x ^ 0 }  ^  {  \\\\ text { Read carefully .  }  }  - 3x ^  {  - 1 }   \\\\ div 1x ^ 5 +  {  \\\\ sqrt [ 3 ]  { 2x ^  {  - 3 }  }  }  ^  { 1x ^ 0 }  +  \\\\ vec {  \\\\ vec {  { 3x ^  {  - 3 }  }  ^  { 1x ^  {  - 2 }  }  }  }  }  {  \\\\ sum _  {  \\\\ dagger = 9 }  ^  {  \\\\ infty }   \\\\ vec {  \\\\ boxed {  \\\\ boxed { 3x ^  {  - 1 }  }  + 3x ^ 1  \\\\ times 1x ^  {  - 5 }  }  }  }  }   \\\\ div  \\\\ sin (  \\\\ boxed {  \\\\ boxed {  \\\\ vec { 3x ^  {  - 5 }  }  }  +  \\\\ sqrt [ 4 ]  { 2x ^  {  - 4 }  }  +  \\\\ vec { 2x ^  {  - 3 }  }   \\\\ div  \\\\ sin (  \\\\ sqrt [ 5 ]  {  \\\\ int _  { 1x ^ 5 }  ^  { 2x ^ 5 }  2x ^  {  - 3 }  d \\\\ varrho }  )   \\\\ times  \\\\ vec {  {  \\\\ underbrace { 2x ^ 1 }  _  {  \\\\ text { Prove This .  }  }  }  ^  { 3x ^ 4 }   \\\\ div  \\\\ sqrt [ 5 ]  { 2x ^  {  - 3 }  }  +  \\\\ sum _  {  \\\\ theta = 8 }  ^  {  \\\\ infty }  1x ^ 4 }  }  )   \\\\ times  {  \\\\ boxed {  \\\\ vec {  \\\\ sum _  {  \\\\ nu = 8 }  ^  {  \\\\ infty }   \\\\ sum _  { 4 = 6 }  ^  {  \\\\ infty }   \\\\ sum _  {  \\\\ xi = 9 }  ^  {  \\\\ infty }   \\\\ boxed { 3x ^ 1 }  -  \\\\ boxed {  \\\\ sqrt [ 3 ]  {  \\\\ sqrt [ 3 ]  { 2x ^  {  - 2 }  }  }  }  }  }  }  ^  { 1x ^ 3 }  -  \\\\ cos (  {  {  \\\\ tan (  \\\\ sum _  { 0 = 6 }  ^  {  \\\\ infty }   \\\\ tan (  \\\\ overbrace {  \\\\ frac {  \\\\ boxed { 1x ^ 1 }  -  \\\\ sqrt [ 3 ]  { 3x ^  {  - 2 }  }  }  {  \\\\ sum _  {  \\\\ eta = 10 }  ^  {  \\\\ infty }  1x ^  {  - 3 }   \\\\ div 1x ^ 1 }  }  ^  {  \\\\ text { Molar Quantity .  }  }  )  )  }  ^  { 1x ^ 3 }  }  ^  { 1x ^  {  - 4 }  }  )  }  ^  {  \\\\ text { Expanded .  }  }  [  / math ]  ? ',\n",
       "       \"What is  [ math ]  \\\\ frac {  \\\\ int _  { 1x ^ 5 }  ^  { 3x ^  {  - 5 }  }   \\\\ tan (  \\\\ tan (  {  \\\\ boxed {  \\\\ int _  { 1x ^ 0 }  ^  { 1x ^ 2 }   \\\\ sum _  {  \\\\ varpi = 1 }  ^  {  \\\\ infty }   \\\\ int _  { 2x ^  {  - 3 }  }  ^  { 2x ^ 2 }   \\\\ sum _  {  \\\\ alpha = 7 }  ^  {  \\\\ infty }   \\\\ underbrace {  \\\\ sqrt [ 2 ]  { 1x ^ 5 }  }  _  {  \\\\ text { Gauss ' s Law of Theoretical Probability .  }  }  d \\\\ tau dx }  }  ^  { 1x ^ 0 }  )  )  d \\\\ mu }  {  \\\\ int _  { 2x ^  {  - 3 }  }  ^  { 1x ^ 5 }   \\\\ cos (  \\\\ int _  { 2x ^ 2 }  ^  { 1x ^  {  - 3 }  }   \\\\ frac {  \\\\ sqrt [ 2 ]  {  \\\\ overbrace {  \\\\ underbrace {  \\\\ frac { 3x ^ 3 + 3x ^ 5 }  {  \\\\ sqrt [ 3 ]  { 2x ^  {  - 3 }  }  }  }  _  {  \\\\ text { Gauss ' s Law of Theoretical Probability .  }  }   \\\\ times  \\\\ overbrace {  \\\\ tan ( 2x ^ 0 )  }  ^  {  \\\\ text { Gauss ' s Law of Theoretical Probability .  }  }  -  \\\\ sum _  { 4 = 7 }  ^  {  \\\\ infty }   \\\\ boxed { 3x ^  {  - 5 }  }  }  ^  {  \\\\ text { Inverse Function .  }  }  }  }  {  {  \\\\ boxed {  \\\\ int _  { 2x ^ 2 }  ^  { 2x ^ 4 }  3x ^ 1 d9 }   \\\\ div  \\\\ sum _  { 6 = 6 }  ^  {  \\\\ infty }   \\\\ sqrt [ 3 ]  { 2x ^ 2 }  +  \\\\ sqrt [ 4 ]  {  \\\\ sin ( 2x ^ 0 + 3x ^ 0 )  }  }  ^  { 2x ^  {  - 4 }  }  +  \\\\ boxed {  \\\\ frac {  \\\\ vec {  \\\\ boxed {  \\\\ sum _  {  \\\\ gamma = 10 }  ^  {  \\\\ infty }  1x ^  {  - 5 }  }  }  }  {  \\\\ frac {  \\\\ sum _  {  \\\\ iota = 2 }  ^  {  \\\\ infty }  1x ^  {  - 5 }  -  \\\\ frac { 3x ^  {  - 1 }  }  { 1x ^  {  - 4 }  }  }  {  \\\\ sin (  \\\\ tan ( 3x ^  {  - 2 }  )  )  }  }  }  }   \\\\ times  \\\\ boxed {  \\\\ sqrt [ 2 ]  {  {  {  {  \\\\ sqrt [ 5 ]  { 2x ^ 5 }  }  ^  { 2x ^  {  - 1 }  }  }  ^  { 2x ^  {  - 1 }  }   \\\\ div  \\\\ sum _  {  \\\\ chi = 6 }  ^  {  \\\\ infty }   \\\\ int _  { 1x ^ 4 }  ^  { 2x ^  {  - 4 }  }  3x ^ 2 d \\\\ vartheta +  { 2x ^  {  - 3 }  }  ^  { 2x ^  {  - 5 }  }  }  ^  { 3x ^  {  - 4 }  }  }  }  d \\\\ mu )  d \\\\ iota }  [  / math ]  ? \"],\n",
       "      dtype=object)"
      ]
     },
     "execution_count": 17,
     "metadata": {},
     "output_type": "execute_result"
    }
   ],
   "source": [
    "train_df[train_df.number_word > 500].question_text.values"
   ]
  },
  {
   "cell_type": "code",
   "execution_count": 16,
   "metadata": {},
   "outputs": [
    {
     "data": {
      "image/png": "[encoded data removed]",
      "text/plain": [
       "<Figure size 432x288 with 1 Axes>"
      ]
     },
     "metadata": {
      "needs_background": "light"
     },
     "output_type": "display_data"
    }
   ],
   "source": [
    "plt.hist(test_df.number_word)\n",
    "plt.yscale('log')\n",
    "plt.show()"
   ]
  },
  {
   "cell_type": "code",
   "execution_count": 18,
   "metadata": {},
   "outputs": [
    {
     "data": {
      "text/plain": [
       "array(['What is  [ math ]  \\\\ frac {  \\\\ frac {  \\\\ vec { 3x ^  {  - 1 }  - 3x ^  {  - 4 }   \\\\ div 2x ^ 2 + 1x ^  {  - 2 }  }  }  {  \\\\ frac { 1x ^ 3 - 2x ^ 2 }  {  \\\\ vec { 1x ^ 1 }  }   \\\\ times  \\\\ frac { 1x ^ 3 }  { 3x ^ 2 }   \\\\ div  \\\\ vec { 3x ^ 5 }  }  }  { 1x ^ 2 - 3x ^ 2  \\\\ times  \\\\ frac { 2x ^ 0 }  { 3x ^ 2 }   \\\\ times 3x ^  {  - 5 }  - 2x ^ 1 +  { 2x ^ 1 }  ^  { 3x ^ 0 }   \\\\ div  { 2x ^  {  - 5 }  }  ^  { 1x ^  {  - 3 }  }   \\\\ times 2x ^ 5 - 1x ^ 2  \\\\ times 2x ^ 3  \\\\ times 1x ^ 4 -  \\\\ vec { 3x ^ 5 }  }   \\\\ times  {  \\\\ frac { 2x ^ 1 }  { 1x ^  {  - 3 }  }  }  ^  { 2x ^ 1 + 1x ^  {  - 2 }  }   \\\\ div  \\\\ frac { 3x ^ 2 }  { 3x ^ 1 }  + 3x ^ 1 + 2x ^  {  - 5 }   \\\\ times 2x ^  {  - 1 }   \\\\ times 3x ^  {  - 4 }   \\\\ times  \\\\ vec { 1x ^  {  - 3 }  }  -  {  { 3x ^  {  - 1 }  }  ^  { 3x ^ 5 }  }  ^  {  { 2x ^  {  - 5 }  }  ^  { 1x ^ 4 }  }  +  \\\\ frac {  { 1x ^  {  - 2 }  }  ^  { 2x ^ 4 }   \\\\ times  \\\\ vec { 3x ^ 2 }  }  {  { 2x ^ 2 }  ^  { 3x ^  {  - 1 }  }  -  { 1x ^  {  - 5 }  }  ^  { 2x ^ 0 }  }  -  \\\\ vec {  \\\\ frac { 2x ^ 2 - 2x ^  {  - 2 }  }  { 3x ^  {  - 4 }   \\\\ div 2x ^  {  - 1 }  }  }  [  / math ]  ? '],\n",
       "      dtype=object)"
      ]
     },
     "execution_count": 18,
     "metadata": {},
     "output_type": "execute_result"
    }
   ],
   "source": [
    "test_df[test_df.number_word > 300].question_text.values"
   ]
  },
  {
   "cell_type": "code",
   "execution_count": 20,
   "metadata": {},
   "outputs": [
    {
     "name": "stdout",
     "output_type": "stream",
     "text": [
      "0.0004266355383573689\n",
      "557\n",
      "0.00040818499653930113\n"
     ]
    }
   ],
   "source": [
    "n = 60\n",
    "print(len(list(train_df[train_df.number_word > n].question_text)) / len(list(train_df[train_df.number_word <= n].question_text)))\n",
    "print(len(train_df[train_df.number_word > n].question_text))\n",
    "print(len(list(test_df[test_df.number_word > n].question_text)) / len(list(test_df[test_df.number_word <= n].question_text)))"
   ]
  },
  {
   "cell_type": "code",
   "execution_count": 59,
   "metadata": {},
   "outputs": [
    {
     "name": "stderr",
     "output_type": "stream",
     "text": [
      "/Users/guanqun.wu/anaconda3/envs/adinfo/lib/python3.6/site-packages/ipykernel_launcher.py:2: SettingWithCopyWarning: \n",
      "A value is trying to be set on a copy of a slice from a DataFrame.\n",
      "Try using .loc[row_indexer,col_indexer] = value instead\n",
      "\n",
      "See the caveats in the documentation: http://pandas.pydata.org/pandas-docs/stable/indexing.html#indexing-view-versus-copy\n",
      "  \n",
      "/Users/guanqun.wu/anaconda3/envs/adinfo/lib/python3.6/site-packages/pandas/core/frame.py:3790: SettingWithCopyWarning: \n",
      "A value is trying to be set on a copy of a slice from a DataFrame\n",
      "\n",
      "See the caveats in the documentation: http://pandas.pydata.org/pandas-docs/stable/indexing.html#indexing-view-versus-copy\n",
      "  downcast=downcast, **kwargs)\n",
      "/Users/guanqun.wu/anaconda3/envs/adinfo/lib/python3.6/site-packages/ipykernel_launcher.py:5: SettingWithCopyWarning: \n",
      "A value is trying to be set on a copy of a slice from a DataFrame.\n",
      "Try using .loc[row_indexer,col_indexer] = value instead\n",
      "\n",
      "See the caveats in the documentation: http://pandas.pydata.org/pandas-docs/stable/indexing.html#indexing-view-versus-copy\n",
      "  \"\"\"\n"
     ]
    }
   ],
   "source": [
    "df_s = train_df[train_df.target == 0]\n",
    "df_s['question_text'] = df_s['question_text'].str.lower()\n",
    "df_s.fillna('#', inplace=True)\n",
    "df_ins = train_df[train_df.target == 1]\n",
    "df_ins['question_text'] = df_ins['question_text'].str.lower()\n",
    "df_ins.fillna('#', inplace=True)"
   ]
  },
  {
   "cell_type": "code",
   "execution_count": 60,
   "metadata": {},
   "outputs": [],
   "source": [
    "s_dic = {}\n",
    "for question in df_s.question_text:\n",
    "    words = question.split(' ')\n",
    "    for word in words:\n",
    "        if word not in s_dic:\n",
    "            s_dic[word] = 1\n",
    "        else:\n",
    "            s_dic[word] += 1\n",
    "\n",
    "ins_dic = {}\n",
    "for question in df_ins.question_text:\n",
    "    words = question.split(' ')\n",
    "    for word in words:\n",
    "        if word not in ins_dic:\n",
    "            ins_dic[word] = 1\n",
    "        else:\n",
    "            ins_dic[word] += 1"
   ]
  },
  {
   "cell_type": "code",
   "execution_count": 116,
   "metadata": {},
   "outputs": [],
   "source": [
    "difflist = []\n",
    "for k in ins_dic.keys():\n",
    "    if ins_dic[k] > 500:\n",
    "        if k in s_dic and (ins_dic[k] / s_dic[k]) > 0.2:\n",
    "            difflist.append(k)\n",
    "        elif k not in s_dic:\n",
    "            difflist.append(k)"
   ]
  },
  {
   "cell_type": "code",
   "execution_count": 117,
   "metadata": {},
   "outputs": [
    {
     "data": {
      "text/plain": [
       "132"
      ]
     },
     "execution_count": 117,
     "metadata": {},
     "output_type": "execute_result"
    }
   ],
   "source": [
    "len(difflist)"
   ]
  },
  {
   "cell_type": "code",
   "execution_count": 61,
   "metadata": {},
   "outputs": [
    {
     "data": {
      "text/plain": [
       "(38156, 190034)"
      ]
     },
     "execution_count": 61,
     "metadata": {},
     "output_type": "execute_result"
    }
   ],
   "source": [
    "len(ins_dic), len(s_dic)"
   ]
  },
  {
   "cell_type": "code",
   "execution_count": 62,
   "metadata": {},
   "outputs": [
    {
     "data": {
      "text/plain": [
       "(6598, 8153)"
      ]
     },
     "execution_count": 62,
     "metadata": {},
     "output_type": "execute_result"
    }
   ],
   "source": [
    "ins_dic['trump'], s_dic['trump']"
   ]
  },
  {
   "cell_type": "code",
   "execution_count": 63,
   "metadata": {},
   "outputs": [
    {
     "data": {
      "text/plain": [
       "(2610, 6551)"
      ]
     },
     "execution_count": 63,
     "metadata": {},
     "output_type": "execute_result"
    }
   ],
   "source": [
    "ins_dic['sex'], s_dic['sex']"
   ]
  },
  {
   "cell_type": "code",
   "execution_count": 67,
   "metadata": {},
   "outputs": [
    {
     "data": {
      "text/plain": [
       "(6008, 7330, 1265, 4052)"
      ]
     },
     "execution_count": 67,
     "metadata": {},
     "output_type": "execute_result"
    }
   ],
   "source": [
    "ins_dic['women'], s_dic['women'], ins_dic['woman'], s_dic['woman']"
   ]
  },
  {
   "cell_type": "code",
   "execution_count": 65,
   "metadata": {},
   "outputs": [
    {
     "data": {
      "text/plain": [
       "(3880, 4240)"
      ]
     },
     "execution_count": 65,
     "metadata": {},
     "output_type": "execute_result"
    }
   ],
   "source": [
    "ins_dic['white'], s_dic['white']"
   ]
  },
  {
   "cell_type": "code",
   "execution_count": 66,
   "metadata": {},
   "outputs": [
    {
     "data": {
      "text/plain": [
       "(3172, 10516)"
      ]
     },
     "execution_count": 66,
     "metadata": {},
     "output_type": "execute_result"
    }
   ],
   "source": [
    "ins_dic['indian'], s_dic['indian']"
   ]
  },
  {
   "cell_type": "code",
   "execution_count": 81,
   "metadata": {},
   "outputs": [
    {
     "data": {
      "text/plain": [
       "(2526, 1939)"
      ]
     },
     "execution_count": 81,
     "metadata": {},
     "output_type": "execute_result"
    }
   ],
   "source": [
    "ins_dic['indians'], s_dic['indians']"
   ]
  },
  {
   "cell_type": "code",
   "execution_count": 68,
   "metadata": {},
   "outputs": [
    {
     "data": {
      "text/plain": [
       "(4253, 5496, 1374, 5997)"
      ]
     },
     "execution_count": 68,
     "metadata": {},
     "output_type": "execute_result"
    }
   ],
   "source": [
    "ins_dic['men'], s_dic['men'], ins_dic['man'], s_dic['man']"
   ]
  },
  {
   "cell_type": "code",
   "execution_count": 69,
   "metadata": {},
   "outputs": [
    {
     "data": {
      "text/plain": [
       "(3592, 1625)"
      ]
     },
     "execution_count": 69,
     "metadata": {},
     "output_type": "execute_result"
    }
   ],
   "source": [
    "ins_dic['muslims'], s_dic['muslims']"
   ]
  },
  {
   "cell_type": "code",
   "execution_count": 74,
   "metadata": {},
   "outputs": [
    {
     "data": {
      "text/plain": [
       "(1914, 5714)"
      ]
     },
     "execution_count": 74,
     "metadata": {},
     "output_type": "execute_result"
    }
   ],
   "source": [
    "ins_dic['american'], s_dic['american']"
   ]
  },
  {
   "cell_type": "code",
   "execution_count": 75,
   "metadata": {},
   "outputs": [
    {
     "data": {
      "text/plain": [
       "(1526, 2192)"
      ]
     },
     "execution_count": 75,
     "metadata": {},
     "output_type": "execute_result"
    }
   ],
   "source": [
    "ins_dic['donald'], s_dic['donald']"
   ]
  },
  {
   "cell_type": "code",
   "execution_count": 78,
   "metadata": {},
   "outputs": [
    {
     "data": {
      "text/plain": [
       "(3423, 12523)"
      ]
     },
     "execution_count": 78,
     "metadata": {},
     "output_type": "execute_result"
    }
   ],
   "source": [
    "ins_dic['quora'], s_dic['quora']"
   ]
  },
  {
   "cell_type": "code",
   "execution_count": 79,
   "metadata": {},
   "outputs": [
    {
     "data": {
      "text/plain": [
       "(2250, 3042)"
      ]
     },
     "execution_count": 79,
     "metadata": {},
     "output_type": "execute_result"
    }
   ],
   "source": [
    "ins_dic['hate'], s_dic['hate']"
   ]
  },
  {
   "cell_type": "code",
   "execution_count": 118,
   "metadata": {},
   "outputs": [
    {
     "name": "stdout",
     "output_type": "stream",
     "text": [
      "72188 80810\n",
      "393881 1225312\n"
     ]
    }
   ],
   "source": [
    "s = set(difflist)\n",
    "count = 0\n",
    "for q in df_ins.question_text:\n",
    "    words = set(q.split(' '))\n",
    "    if words.intersection(s):\n",
    "        count += 1\n",
    "print(count, len(df_ins))\n",
    "\n",
    "count = 0\n",
    "for q in df_s.question_text:\n",
    "    words = set(q.split(' '))\n",
    "    if words.intersection(s):\n",
    "        count += 1\n",
    "print(count, len(df_s))"
   ]
  },
  {
   "cell_type": "code",
   "execution_count": 119,
   "metadata": {},
   "outputs": [
    {
     "name": "stdout",
     "output_type": "stream",
     "text": [
      "14627 56370\n"
     ]
    }
   ],
   "source": [
    "count = 0\n",
    "for q in test_df.question_text:\n",
    "    words = set(q.split(' '))\n",
    "    if words.intersection(s):\n",
    "        count += 1\n",
    "print(count, len(test_df))"
   ]
  },
  {
   "cell_type": "code",
   "execution_count": 120,
   "metadata": {},
   "outputs": [
    {
     "name": "stdout",
     "output_type": "stream",
     "text": [
      "340129 1306122\n"
     ]
    }
   ],
   "source": [
    "count = 0\n",
    "for q in train_df.question_text:\n",
    "    words = set(q.split(' '))\n",
    "    if words.intersection(s):\n",
    "        count += 1\n",
    "print(count, len(train_df))"
   ]
  },
  {
   "cell_type": "code",
   "execution_count": null,
   "metadata": {},
   "outputs": [],
   "source": []
  },
  {
   "cell_type": "code",
   "execution_count": null,
   "metadata": {},
   "outputs": [],
   "source": []
  },
  {
   "cell_type": "code",
   "execution_count": null,
   "metadata": {},
   "outputs": [],
   "source": []
  }
 ],
 "metadata": {
  "kernelspec": {
   "display_name": "Python 3",
   "language": "python",
   "name": "python3"
  },
  "language_info": {
   "codemirror_mode": {
    "name": "ipython",
    "version": 3
   },
   "file_extension": ".py",
   "mimetype": "text/x-python",
   "name": "python",
   "nbconvert_exporter": "python",
   "pygments_lexer": "ipython3",
   "version": "3.6.7"
  }
 },
 "nbformat": 4,
 "nbformat_minor": 2
}
